{
  "cells": [
    {
      "cell_type": "code",
      "execution_count": null,
      "metadata": {
        "collapsed": false
      },
      "outputs": [],
      "source": [
        "%matplotlib inline"
      ]
    },
    {
      "cell_type": "markdown",
      "metadata": {},
      "source": [
        "\nNumpy\n#######\n\nFundamental package for scientific computing.\n"
      ]
    },
    {
      "cell_type": "markdown",
      "metadata": {},
      "source": [
        "Introduction \n*************\n\nMemory-efficient container that provides fast numerical operations. Also \nknown as 'array oriented computing'. Implemented in C and Fortran - thus the\nspeed.\n\nMain idea is vectorisation - not for loops.\n\nNumpy arrays:\n\n* only one data type\n* structure must be determined (shape)\n* statically typed (data type and shape are pre-determined)\n* dimensions are called axes\n* number of axes is called rank\n* supports linear functions e.g. dot product\n\nThus not as flexible as Python list.\n\nHelp\n*****\n\n* Access help file with `<np.function_name>?`\n* Look for function with `np.lookfor('<search term>')`\n* Glob search with `<np.fun_start>*`\n\nCreating arrays\n*****************\n\nYou can create an array of a specific size filled with zero's or one's. \nSpecify shape by giving the shape as a tuple.\n\n"
      ]
    },
    {
      "cell_type": "code",
      "execution_count": null,
      "metadata": {
        "collapsed": false
      },
      "outputs": [],
      "source": [
        "import numpy as np\n\nnp.ones((3,3))\nnp.zeros((3,3))"
      ]
    },
    {
      "cell_type": "markdown",
      "metadata": {},
      "source": [
        "The ``np.empty()`` just gives you 'rubbish':\n\n"
      ]
    },
    {
      "cell_type": "code",
      "execution_count": null,
      "metadata": {
        "collapsed": false
      },
      "outputs": [],
      "source": [
        "np.empty(10)\n# Interestingly, numpy may re-use numpy array already in memory:\na = np.ones((3,3))\nA = np.empty(9)\nA"
      ]
    },
    {
      "cell_type": "markdown",
      "metadata": {},
      "source": [
        "In the above case, there was already an array of size '9', so numpy reuses\nthe data saved in this memory.\n\n"
      ]
    },
    {
      "cell_type": "markdown",
      "metadata": {},
      "source": [
        "You can also use ``np.arange``:\n\n"
      ]
    },
    {
      "cell_type": "code",
      "execution_count": null,
      "metadata": {
        "collapsed": false
      },
      "outputs": [],
      "source": [
        "ra = np.arange(10) \nprint(ra)\n\nprint(type(ra))"
      ]
    },
    {
      "cell_type": "markdown",
      "metadata": {},
      "source": [
        "You can also use 'start, stop, step':\n\n"
      ]
    },
    {
      "cell_type": "code",
      "execution_count": null,
      "metadata": {
        "collapsed": false
      },
      "outputs": [],
      "source": [
        "raf = np.arange(-1, 1, 0.1)  \nprint(raf)"
      ]
    },
    {
      "cell_type": "markdown",
      "metadata": {},
      "source": [
        "There 2 similar functions, ``np.linspace`` and ``np.logspace``:\n\n"
      ]
    },
    {
      "cell_type": "code",
      "execution_count": null,
      "metadata": {
        "collapsed": false
      },
      "outputs": [],
      "source": [
        "# start, end, number of elements\nnp.linspace(0, 10, 20)\n\n# same but in log scale\nnp.logspace(0, np.e**2, 10, base=np.e)"
      ]
    },
    {
      "cell_type": "markdown",
      "metadata": {},
      "source": [
        "Generate numpy array with random numbers:\n\n"
      ]
    },
    {
      "cell_type": "code",
      "execution_count": null,
      "metadata": {
        "collapsed": false
      },
      "outputs": [],
      "source": [
        "np.random.rand(10)\n# random numbers from a standard normal distribution\nnp.random.randn(10)"
      ]
    },
    {
      "cell_type": "markdown",
      "metadata": {},
      "source": [
        "Diagonal Matrices:\n\n"
      ]
    },
    {
      "cell_type": "code",
      "execution_count": null,
      "metadata": {
        "collapsed": false
      },
      "outputs": [],
      "source": [
        "# produces the numbers 1, 2 and 3 along diagonal\nnp.diag([1,2,3])\n# adds offset\nnp.diag([1,2,3], k=-1)\n# reverses order\nnp.diag([1,2,3], k=-1)"
      ]
    },
    {
      "cell_type": "markdown",
      "metadata": {},
      "source": [
        "A numpy array can also be created from a Python list object:\n\n"
      ]
    },
    {
      "cell_type": "code",
      "execution_count": null,
      "metadata": {
        "collapsed": false
      },
      "outputs": [],
      "source": [
        "np.array([1,2,3,4])\nnp.array([[1,2],[3,4]])"
      ]
    },
    {
      "cell_type": "markdown",
      "metadata": {},
      "source": [
        "What happens here?\n\n"
      ]
    },
    {
      "cell_type": "code",
      "execution_count": null,
      "metadata": {
        "collapsed": false
      },
      "outputs": [],
      "source": [
        "np.array([[1,2],[3,4,5]])"
      ]
    },
    {
      "cell_type": "markdown",
      "metadata": {},
      "source": [
        "Note that the ``dytpe=object``. This means ANY Python object and is difficult\nto work with. Here the numpy array is made of lists, it is of shape:\n\n"
      ]
    },
    {
      "cell_type": "code",
      "execution_count": null,
      "metadata": {
        "collapsed": false
      },
      "outputs": [],
      "source": [
        "np.array([[1,2],[3,4,5]]).shape"
      ]
    },
    {
      "cell_type": "markdown",
      "metadata": {},
      "source": [
        "Numpy array object\n*******************\nAn array object is composed of three parts:\n\n* the data, usually in a contiguous chunk in memory\n* metadata about the data (ref: `SO \n  <https://stackoverflow.com/questions/22053050/difference-between-numpy-array-shape-r-1-and-r`)`_`\n\n   * `.flags` - True, False flags about C_contiguous, writable etc\n   * `.dtype` - the data type e.g. int64\n   * `.strides` - discussed below\n   * `.shape` - the dimensions of the array, discussed more below\n\n![text](https://raw.githubusercontent.com/leriomaggio/numpy-euroscipy/7e308233843ddb6b4fe40a9ff6baf813909bb881/images/ndarray_with_details.png#)\n\n"
      ]
    },
    {
      "cell_type": "markdown",
      "metadata": {},
      "source": [
        "Broadcasting\n\nStart from the end of each array and start comparing\ngood if equal or one is equal to 1\n\nIf shape of one is less than the other, assume \n"
      ]
    },
    {
      "cell_type": "code",
      "execution_count": null,
      "metadata": {
        "collapsed": false
      },
      "outputs": [],
      "source": [
        "1"
      ]
    }
  ],
  "metadata": {
    "kernelspec": {
      "display_name": "Python 3",
      "language": "python",
      "name": "python3"
    },
    "language_info": {
      "codemirror_mode": {
        "name": "ipython",
        "version": 3
      },
      "file_extension": ".py",
      "mimetype": "text/x-python",
      "name": "python",
      "nbconvert_exporter": "python",
      "pygments_lexer": "ipython3",
      "version": "3.7.4"
    }
  },
  "nbformat": 4,
  "nbformat_minor": 0
}