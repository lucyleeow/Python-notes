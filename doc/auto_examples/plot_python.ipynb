{
  "cells": [
    {
      "cell_type": "code",
      "execution_count": null,
      "metadata": {
        "collapsed": false
      },
      "outputs": [],
      "source": [
        "%matplotlib inline"
      ]
    },
    {
      "cell_type": "markdown",
      "metadata": {},
      "source": [
        "\nPython\n#######\n\nPython is an interpreted language (c.f. compiled) and can be used \ninteractively.\n"
      ]
    },
    {
      "cell_type": "markdown",
      "metadata": {},
      "source": [
        "Magic functions\n******************\nThese functions are prefixed by ``%``. In certain IDE's the setting \n``automagic`` is\nenabled by default and allows you to omit the ``%`` sign. Useful magic \nfunctions include ``timeit``, which times the execution of short snippets\nusing the timeit module from the standard library and ``debug``, which allows\nyou to enter post-mortem debugging. \n\nData types\n************\n\n* numeric\n\n   * Integer\n   * Float\n   * Complex\n   * Boolean \n\nType conversion is called 'casting'.\n\nContainers\n**************\n* **Lists** ordered, can have different types, mutable\n\n  * ``[-1]`` negative indexing = count from the back\n  * ``[start:stop:step]`` slicing syntax\n  * ``list1 = list(list2)`` creates a new object that is in a different \n    memory area\n\n* **Strings** immutable, accessible via indexing just like lists\n\n  * string formatting:\n\n"
      ]
    },
    {
      "cell_type": "code",
      "execution_count": null,
      "metadata": {
        "collapsed": false
      },
      "outputs": [],
      "source": [
        "print(\n    'An integer: %i; a float: %f; another string: %s' % (1, 0.1, 'string')\n)"
      ]
    },
    {
      "cell_type": "markdown",
      "metadata": {},
      "source": [
        "* **Dictionary** unordered, maps keys to values\n* **Tuple** immutable list. \n\n"
      ]
    },
    {
      "cell_type": "code",
      "execution_count": null,
      "metadata": {
        "collapsed": false
      },
      "outputs": [],
      "source": [
        "t = 1, 2, 3, 'string' \nt = (1, 2, 3, 'string') # both ways to create tuple"
      ]
    },
    {
      "cell_type": "markdown",
      "metadata": {},
      "source": [
        "Mutable vs immutable\n**********************\n\n**Immutable**: string, tuple, int, float, boolean\nCannot be altered in place.\n\n**Mutable**: list, dictionary, set\nCan be altered in place.\n\nYou can think of a variable as a name 'bound' to an object. One object\ncan have several 'names'. You can check this with the ``id()`` function\nwhich returns the memory location of where the variable is stored.\nYou can also check if two objects have the same ID by using the ``is`` \nfunction. If two 'variables' are point to the same object, changing one \nvariable, changes the other variable pointint to that object.\n\nCreating two strings with the same value will result in the two variables\npointing to the same object. This is to economise memory usable as these\nobjects are immutable.\n\n"
      ]
    },
    {
      "cell_type": "code",
      "execution_count": null,
      "metadata": {
        "collapsed": false
      },
      "outputs": [],
      "source": [
        "string1 = \"hello\"\nstring2 = \"hello\"\nprint(id(string1))\nprint(id(string2))"
      ]
    },
    {
      "cell_type": "markdown",
      "metadata": {},
      "source": [
        "Strings cannot be changed in place. Altering one of these strings results\nin Python creating a new string object at a different location in memory.\n\n"
      ]
    },
    {
      "cell_type": "code",
      "execution_count": null,
      "metadata": {
        "collapsed": false
      },
      "outputs": [],
      "source": [
        "string1 += \"e\"\nprint(id(string1))"
      ]
    },
    {
      "cell_type": "markdown",
      "metadata": {},
      "source": [
        "Integers will appear to act the same way but this is for a different reason.\nTo economise memory usage, CPython pre-allocates the first 262 integers on\nstart up. This means that the numbers -5 to 256 (inclusive) are automatically\nbound to certain addresses in memory. CPython stores references to all of \nthese integer objects in an array. When we 'create' an integer object, we \nare just telling our variable to point to an address stored in that array.\nThese numbers are choosen as they are the most commonly used numbers. \nFor some reason this does not seem to work with sphinx?\n\n"
      ]
    },
    {
      "cell_type": "code",
      "execution_count": null,
      "metadata": {
        "collapsed": false
      },
      "outputs": [],
      "source": [
        "num1 = 1\nnum2 = 1\nprint(num1 is num2)\n\nnum3 = 1e1000\nnum4 = 1e1000\nprint(num3 is num4)"
      ]
    },
    {
      "cell_type": "markdown",
      "metadata": {},
      "source": [
        "A list is an array of pointers, which point to each element in the list. The\nvalues in the list are not stored in continuous place in memory.\n\n"
      ]
    },
    {
      "cell_type": "code",
      "execution_count": null,
      "metadata": {
        "collapsed": false
      },
      "outputs": [],
      "source": [
        "list1 = [1,2,3]\nprint(id(list1))\nprint(id(list1[0]), id(list1[1]), id(list1[2]))"
      ]
    },
    {
      "cell_type": "markdown",
      "metadata": {},
      "source": [
        "When you change a list, the location of the list (array of pointers)\ndoes not change but the id of the values changes.\n\n"
      ]
    },
    {
      "cell_type": "code",
      "execution_count": null,
      "metadata": {
        "collapsed": false
      },
      "outputs": [],
      "source": [
        "list1[0] = -1\nprint(id(list1))\nprint(id(list1[0]), id(list1[1]), id(list1[2]))"
      ]
    },
    {
      "cell_type": "markdown",
      "metadata": {},
      "source": [
        "This influences when a variable is modified inside a function. There are two\nways that arguments (given when calling a function) from a function are \npassed to the parameters (which exist inside functions) of the function\n(`ref <https://www.python-course.eu/python3_passing_arguments.php>`_). \n\n* **call/pass by value** - the argument expression (e.g. ``x=2``) is \n  evaluated. If the expression is a variable (e.g. ``x=var1``) its value will \n  assigned (copied) to the corresponding parameter. This ensures that the \n  'global' variable will not be changed.\n* **call/pass by reference** - the function gets a reference to the argument,\n  rather than a copy of its value. The function can then modify the variable.\n  This saves computation time and memory space as arguments do not need to be\n  copied but variables can be 'mistakenly' changed in a function call.\n\nPython uses a mechanism known as 'call by object' or 'call by object\nreference'. If you pass an immutable argument, the object reference is \npassed to the function parameters and they cannot be changed in a \nfunction call, as they cannot be changed at all. If a mutable object is passed\nthey can be changed in place in the function. If you pass a mutable argument \nfunction.\n\nBelow is example of an immutable object:\n\n"
      ]
    },
    {
      "cell_type": "code",
      "execution_count": null,
      "metadata": {
        "collapsed": false
      },
      "outputs": [],
      "source": [
        "x = 4\nprint(id(x))\ndef ref_demo(x):\n    \n    print(\"x=\",x,\" id=\",id(x))\n    x=42\n    print(\"x=\",x,\" id=\",id(x))\n\nref_demo(x=x)"
      ]
    },
    {
      "cell_type": "markdown",
      "metadata": {},
      "source": [
        "Example of a mutable object:\n\n"
      ]
    },
    {
      "cell_type": "code",
      "execution_count": null,
      "metadata": {
        "collapsed": false
      },
      "outputs": [],
      "source": [
        "def side_effects(cities):\n     print(cities)\n     cities += [\"Birmingham\", \"Bradford\"]\n     print(cities)\n\nlocations = [\"London\", \"Leeds\", \"Glasgow\"]\nside_effects(locations)\nprint(\"Global:\", locations)"
      ]
    },
    {
      "cell_type": "markdown",
      "metadata": {},
      "source": [
        "Functions\n***********\n\nWhen defining a function with a variable number of parameters you can use:\n``*args`` (any number of positional arguments packed into a tuple) and\n``**kwargs`` (any number of key word arguments packed into a dictionary).\n\nFunctions are objects meaning that they can:\n\n* be assigned to a variable\n* an element in a list, or any data structure\n* passed as an argument to another function\n\nMethods are functions attached to objects. \n\nScripts and modules\n******************\n\nA python script (``.py`` text file) can be executed interactively with \n``%run <file name>`` in IPython or ``execfile`` in plain Python \ninterpreter. It can also be run in a terimal with ``python <file name>``. \nScripts can also take command line arguments. Use: ``import sys`` then \n``sys.argv``. \n\nModules are a way to organise Python code in a hierarchichal way. It is also \nbetter way to organise functions that you wish to use in several other\nscripts. A module is\njust a Python script. You can ``import`` a module, which gives access to all\nobjects in that module (script). Modules are chached, such that if you\nmodify the module script and import the module again in the same script, you\nwill get the old one. One solution is to use ``reload(<module>)``. \n\n__main__\n==========\n\nRef: `CSchafer <https://www.youtube.com/watch?v=sugvnHA7ElY>`_\n\nWhenever Python runs a file, it sets a number of special variables. \n``__name__`` is one of them. When it runs a ``.py`` file directly,\n``__name__`` variable is set to '__main__'. When importing a module\nhowever, the ``__name__`` variable is set to the name of the file (without\nthe extension). When you see the script ``if __name__ == '__main__'``,\nit is specifying that the code below the if statement should only be run\nif the script is being run directly (and NOT if it is being imported).\n\nsys.path\n=========\n\nPython looks for modules to import in a number of directories dictated by\nthe list of directories in the ``sys.path`` variable. This list consists of\ninstallation dependent default paths as well as directories specified by the\nenvironment variable ``PYTHONPATH``. \n\nPackages\n***********\n\nPackage is a directory containing many modules. A special file named\n'__init__.py' tells python that the directory is a package from which  \nmodules can be imported.\n\nWrite/Read\n*************\n\nStrings are read in or written to from files. This is done with the function\n``open()`` and the following arguments:\n\n* ``r`` read only\n* ``w`` write only - will write over existing file\n* ``a`` append a file\n* ``r+`` read and write\n* ``b`` binary files\n\nStandard libary\n******************\n\nUseful packages in the standard library:\n\n* ``os`` - using OS dependent functionality\n\n   * ``os.getcwd()``\n   * ``os.listdir``\n   * ``os.mkdir``\n   * ``os.rename`` - rename a dir\n   * ``os.remove`` - delete a file\n   * path name manipulations\n\n* ``glob`` (``*``) \n\n   * glob.glob(``*.txt``) - pattern matching\n\n* ``sys`` - system specific information\n\n   * ``sys.platform``\n   * ``sys.version``\n   * ``sys.argv`` - command line arguments\n\n* ``pickle`` - store arbitrary objects to a file\n\nException handling\n********************\n\nExceptions are raised by errors. There are many different types of\nerrors. You can catch an exception like so with ``try`` <command> and use\n``except`` to specify some actions if a certain type of error appears.\n\nClasses\n********\n\n* A class is a blueprint for creating instances. Instance variables are \n  created using a class blueprint and contains data specific for that \n  instance.\n* 'Attribute' - data associated with class\n* 'Method' - function associated with class\n\nThe `__init__` method can be thought of as 'initialise'. It is a reserved\nmethod in Python classes and is known as a 'constructor' in object oriented\nworld. This method is called when an instance is created from the class\n(in fact it is called as soon as memory for the object is allocated)\nand allows the class to 'initialise' the attributes. These are inherited\nto the methods inside the class. This means that other functions defined in\nthe class have access to these initalised attributes. \n\nAll functions defined in a class must have the 'self' parameter first. This\nparameter can actually be called anything, but you should follow convention \nand use 'self'. It refers to the current instance of the class. \n\n"
      ]
    },
    {
      "cell_type": "code",
      "execution_count": null,
      "metadata": {
        "collapsed": false
      },
      "outputs": [],
      "source": [
        "class Employee:\n    \n    def __init__(self, first, last):\n        self.fname = first\n        self.sname = last\n    \n    def method1(self, param1):\n        print(param1, self.fname)"
      ]
    },
    {
      "cell_type": "markdown",
      "metadata": {},
      "source": [
        "To create an instance. You must provide all the arguments of the first\n'__init__' method.\n\n"
      ]
    },
    {
      "cell_type": "code",
      "execution_count": null,
      "metadata": {
        "collapsed": false
      },
      "outputs": [],
      "source": [
        "emp1 = Employee('alice','smith')"
      ]
    },
    {
      "cell_type": "markdown",
      "metadata": {},
      "source": [
        "access the attributes:\n\n"
      ]
    },
    {
      "cell_type": "code",
      "execution_count": null,
      "metadata": {
        "collapsed": false
      },
      "outputs": [],
      "source": [
        "print(emp1.fname)\nprint(emp1.sname)"
      ]
    },
    {
      "cell_type": "markdown",
      "metadata": {},
      "source": [
        "use the method:\n\n"
      ]
    },
    {
      "cell_type": "code",
      "execution_count": null,
      "metadata": {
        "collapsed": false
      },
      "outputs": [],
      "source": [
        "emp1.method1('hello')"
      ]
    }
  ],
  "metadata": {
    "kernelspec": {
      "display_name": "Python 3",
      "language": "python",
      "name": "python3"
    },
    "language_info": {
      "codemirror_mode": {
        "name": "ipython",
        "version": 3
      },
      "file_extension": ".py",
      "mimetype": "text/x-python",
      "name": "python",
      "nbconvert_exporter": "python",
      "pygments_lexer": "ipython3",
      "version": "3.7.4"
    }
  },
  "nbformat": 4,
  "nbformat_minor": 0
}